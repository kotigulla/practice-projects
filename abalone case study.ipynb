{
 "cells": [
  {
   "cell_type": "code",
   "execution_count": 1,
   "id": "3297cadc",
   "metadata": {
    "execution": {
     "iopub.execute_input": "2021-11-18T15:07:59.297741Z",
     "iopub.status.busy": "2021-11-18T15:07:59.295999Z",
     "iopub.status.idle": "2021-11-18T15:08:00.453377Z",
     "shell.execute_reply": "2021-11-18T15:08:00.452645Z",
     "shell.execute_reply.started": "2021-11-18T14:47:36.369931Z"
    },
    "papermill": {
     "duration": 1.179981,
     "end_time": "2021-11-18T15:08:00.453545",
     "exception": false,
     "start_time": "2021-11-18T15:07:59.273564",
     "status": "completed"
    },
    "tags": []
   },
   "outputs": [],
   "source": [
    "import numpy as np\n",
    "import pandas as pd\n",
    "from sklearn.preprocessing import LabelEncoder\n",
    "from sklearn.metrics import mean_absolute_error\n",
    "from sklearn.ensemble import RandomForestRegressor\n",
    "from sklearn.model_selection import train_test_split"
   ]
  },
  {
   "cell_type": "markdown",
   "id": "85640754",
   "metadata": {
    "papermill": {
     "duration": 0.018287,
     "end_time": "2021-11-18T15:08:00.489922",
     "exception": false,
     "start_time": "2021-11-18T15:08:00.471635",
     "status": "completed"
    },
    "tags": []
   },
   "source": [
    "**Reading and Understanding Data**"
   ]
  },
  {
   "cell_type": "code",
   "execution_count": 2,
   "id": "57c6f3b4",
   "metadata": {
    "execution": {
     "iopub.execute_input": "2021-11-18T15:08:00.535693Z",
     "iopub.status.busy": "2021-11-18T15:08:00.534905Z",
     "iopub.status.idle": "2021-11-18T15:08:00.580485Z",
     "shell.execute_reply": "2021-11-18T15:08:00.581018Z",
     "shell.execute_reply.started": "2021-11-18T14:47:36.375919Z"
    },
    "papermill": {
     "duration": 0.073109,
     "end_time": "2021-11-18T15:08:00.581204",
     "exception": false,
     "start_time": "2021-11-18T15:08:00.508095",
     "status": "completed"
    },
    "tags": []
   },
   "outputs": [
    {
     "data": {
      "text/html": [
       "<div>\n",
       "<style scoped>\n",
       "    .dataframe tbody tr th:only-of-type {\n",
       "        vertical-align: middle;\n",
       "    }\n",
       "\n",
       "    .dataframe tbody tr th {\n",
       "        vertical-align: top;\n",
       "    }\n",
       "\n",
       "    .dataframe thead th {\n",
       "        text-align: right;\n",
       "    }\n",
       "</style>\n",
       "<table border=\"1\" class=\"dataframe\">\n",
       "  <thead>\n",
       "    <tr style=\"text-align: right;\">\n",
       "      <th></th>\n",
       "      <th>Sex</th>\n",
       "      <th>Length</th>\n",
       "      <th>Diameter</th>\n",
       "      <th>Height</th>\n",
       "      <th>Whole weight</th>\n",
       "      <th>Shucked weight</th>\n",
       "      <th>Viscera weight</th>\n",
       "      <th>Shell weight</th>\n",
       "      <th>Rings</th>\n",
       "    </tr>\n",
       "  </thead>\n",
       "  <tbody>\n",
       "    <tr>\n",
       "      <th>0</th>\n",
       "      <td>M</td>\n",
       "      <td>0.455</td>\n",
       "      <td>0.365</td>\n",
       "      <td>0.095</td>\n",
       "      <td>0.5140</td>\n",
       "      <td>0.2245</td>\n",
       "      <td>0.1010</td>\n",
       "      <td>0.150</td>\n",
       "      <td>15</td>\n",
       "    </tr>\n",
       "    <tr>\n",
       "      <th>1</th>\n",
       "      <td>M</td>\n",
       "      <td>0.350</td>\n",
       "      <td>0.265</td>\n",
       "      <td>0.090</td>\n",
       "      <td>0.2255</td>\n",
       "      <td>0.0995</td>\n",
       "      <td>0.0485</td>\n",
       "      <td>0.070</td>\n",
       "      <td>7</td>\n",
       "    </tr>\n",
       "    <tr>\n",
       "      <th>2</th>\n",
       "      <td>F</td>\n",
       "      <td>0.530</td>\n",
       "      <td>0.420</td>\n",
       "      <td>0.135</td>\n",
       "      <td>0.6770</td>\n",
       "      <td>0.2565</td>\n",
       "      <td>0.1415</td>\n",
       "      <td>0.210</td>\n",
       "      <td>9</td>\n",
       "    </tr>\n",
       "    <tr>\n",
       "      <th>3</th>\n",
       "      <td>M</td>\n",
       "      <td>0.440</td>\n",
       "      <td>0.365</td>\n",
       "      <td>0.125</td>\n",
       "      <td>0.5160</td>\n",
       "      <td>0.2155</td>\n",
       "      <td>0.1140</td>\n",
       "      <td>0.155</td>\n",
       "      <td>10</td>\n",
       "    </tr>\n",
       "    <tr>\n",
       "      <th>4</th>\n",
       "      <td>I</td>\n",
       "      <td>0.330</td>\n",
       "      <td>0.255</td>\n",
       "      <td>0.080</td>\n",
       "      <td>0.2050</td>\n",
       "      <td>0.0895</td>\n",
       "      <td>0.0395</td>\n",
       "      <td>0.055</td>\n",
       "      <td>7</td>\n",
       "    </tr>\n",
       "  </tbody>\n",
       "</table>\n",
       "</div>"
      ],
      "text/plain": [
       "  Sex  Length  Diameter  Height  Whole weight  Shucked weight  Viscera weight  \\\n",
       "0   M   0.455     0.365   0.095        0.5140          0.2245          0.1010   \n",
       "1   M   0.350     0.265   0.090        0.2255          0.0995          0.0485   \n",
       "2   F   0.530     0.420   0.135        0.6770          0.2565          0.1415   \n",
       "3   M   0.440     0.365   0.125        0.5160          0.2155          0.1140   \n",
       "4   I   0.330     0.255   0.080        0.2050          0.0895          0.0395   \n",
       "\n",
       "   Shell weight  Rings  \n",
       "0         0.150     15  \n",
       "1         0.070      7  \n",
       "2         0.210      9  \n",
       "3         0.155     10  \n",
       "4         0.055      7  "
      ]
     },
     "execution_count": 2,
     "metadata": {},
     "output_type": "execute_result"
    }
   ],
   "source": [
    "df = pd.read_csv('https://raw.githubusercontent.com/dsrscientist/dataset1/master/abalone.csv')\n",
    "df.head()"
   ]
  },
  {
   "cell_type": "code",
   "execution_count": 3,
   "id": "88eeb55a",
   "metadata": {
    "execution": {
     "iopub.execute_input": "2021-11-18T15:08:00.633273Z",
     "iopub.status.busy": "2021-11-18T15:08:00.632212Z",
     "iopub.status.idle": "2021-11-18T15:08:00.753020Z",
     "shell.execute_reply": "2021-11-18T15:08:00.753544Z",
     "shell.execute_reply.started": "2021-11-18T14:47:36.410179Z"
    },
    "papermill": {
     "duration": 0.152784,
     "end_time": "2021-11-18T15:08:00.753716",
     "exception": false,
     "start_time": "2021-11-18T15:08:00.600932",
     "status": "completed"
    },
    "tags": []
   },
   "outputs": [
    {
     "name": "stdout",
     "output_type": "stream",
     "text": [
      "<class 'pandas.core.frame.DataFrame'>\n",
      "RangeIndex: 4177 entries, 0 to 4176\n",
      "Data columns (total 9 columns):\n",
      " #   Column          Non-Null Count  Dtype  \n",
      "---  ------          --------------  -----  \n",
      " 0   Sex             4177 non-null   object \n",
      " 1   Length          4177 non-null   float64\n",
      " 2   Diameter        4177 non-null   float64\n",
      " 3   Height          4177 non-null   float64\n",
      " 4   Whole weight    4177 non-null   float64\n",
      " 5   Shucked weight  4177 non-null   float64\n",
      " 6   Viscera weight  4177 non-null   float64\n",
      " 7   Shell weight    4177 non-null   float64\n",
      " 8   Rings           4177 non-null   int64  \n",
      "dtypes: float64(7), int64(1), object(1)\n",
      "memory usage: 293.8+ KB\n"
     ]
    }
   ],
   "source": [
    "df.info()"
   ]
  },
  {
   "cell_type": "markdown",
   "id": "fe220209",
   "metadata": {
    "papermill": {
     "duration": 0.018353,
     "end_time": "2021-11-18T15:08:00.791045",
     "exception": false,
     "start_time": "2021-11-18T15:08:00.772692",
     "status": "completed"
    },
    "tags": []
   },
   "source": [
    "**Convert Categorical Values into Numerical Values**"
   ]
  },
  {
   "cell_type": "code",
   "execution_count": 4,
   "id": "f61e620e",
   "metadata": {
    "execution": {
     "iopub.execute_input": "2021-11-18T15:08:00.832569Z",
     "iopub.status.busy": "2021-11-18T15:08:00.831778Z",
     "iopub.status.idle": "2021-11-18T15:08:00.837527Z",
     "shell.execute_reply": "2021-11-18T15:08:00.838116Z",
     "shell.execute_reply.started": "2021-11-18T14:47:36.425336Z"
    },
    "papermill": {
     "duration": 0.028857,
     "end_time": "2021-11-18T15:08:00.838322",
     "exception": false,
     "start_time": "2021-11-18T15:08:00.809465",
     "status": "completed"
    },
    "tags": []
   },
   "outputs": [],
   "source": [
    "le=LabelEncoder()\n",
    "df['Sex']=le.fit_transform(df['Sex'])"
   ]
  },
  {
   "cell_type": "code",
   "execution_count": 5,
   "id": "2a102f6d",
   "metadata": {
    "execution": {
     "iopub.execute_input": "2021-11-18T15:08:00.881630Z",
     "iopub.status.busy": "2021-11-18T15:08:00.879231Z",
     "iopub.status.idle": "2021-11-18T15:08:00.891741Z",
     "shell.execute_reply": "2021-11-18T15:08:00.891127Z",
     "shell.execute_reply.started": "2021-11-18T14:47:36.433157Z"
    },
    "papermill": {
     "duration": 0.034178,
     "end_time": "2021-11-18T15:08:00.891909",
     "exception": false,
     "start_time": "2021-11-18T15:08:00.857731",
     "status": "completed"
    },
    "tags": []
   },
   "outputs": [
    {
     "name": "stdout",
     "output_type": "stream",
     "text": [
      "<class 'pandas.core.frame.DataFrame'>\n",
      "RangeIndex: 4177 entries, 0 to 4176\n",
      "Data columns (total 9 columns):\n",
      " #   Column          Non-Null Count  Dtype  \n",
      "---  ------          --------------  -----  \n",
      " 0   Sex             4177 non-null   int32  \n",
      " 1   Length          4177 non-null   float64\n",
      " 2   Diameter        4177 non-null   float64\n",
      " 3   Height          4177 non-null   float64\n",
      " 4   Whole weight    4177 non-null   float64\n",
      " 5   Shucked weight  4177 non-null   float64\n",
      " 6   Viscera weight  4177 non-null   float64\n",
      " 7   Shell weight    4177 non-null   float64\n",
      " 8   Rings           4177 non-null   int64  \n",
      "dtypes: float64(7), int32(1), int64(1)\n",
      "memory usage: 277.5 KB\n"
     ]
    }
   ],
   "source": [
    "df.info()"
   ]
  },
  {
   "cell_type": "markdown",
   "id": "3bf0fd69",
   "metadata": {
    "papermill": {
     "duration": 0.018928,
     "end_time": "2021-11-18T15:08:00.929740",
     "exception": false,
     "start_time": "2021-11-18T15:08:00.910812",
     "status": "completed"
    },
    "tags": []
   },
   "source": [
    "**Check for NaN values**"
   ]
  },
  {
   "cell_type": "code",
   "execution_count": 6,
   "id": "bb2ceb83",
   "metadata": {
    "execution": {
     "iopub.execute_input": "2021-11-18T15:08:00.976026Z",
     "iopub.status.busy": "2021-11-18T15:08:00.972729Z",
     "iopub.status.idle": "2021-11-18T15:08:00.979247Z",
     "shell.execute_reply": "2021-11-18T15:08:00.979825Z",
     "shell.execute_reply.started": "2021-11-18T14:47:36.453527Z"
    },
    "papermill": {
     "duration": 0.030962,
     "end_time": "2021-11-18T15:08:00.980015",
     "exception": false,
     "start_time": "2021-11-18T15:08:00.949053",
     "status": "completed"
    },
    "tags": []
   },
   "outputs": [
    {
     "data": {
      "text/plain": [
       "Sex               0\n",
       "Length            0\n",
       "Diameter          0\n",
       "Height            0\n",
       "Whole weight      0\n",
       "Shucked weight    0\n",
       "Viscera weight    0\n",
       "Shell weight      0\n",
       "Rings             0\n",
       "dtype: int64"
      ]
     },
     "execution_count": 6,
     "metadata": {},
     "output_type": "execute_result"
    }
   ],
   "source": [
    "df.isna().sum()"
   ]
  },
  {
   "cell_type": "code",
   "execution_count": 7,
   "id": "cd6b2364",
   "metadata": {
    "execution": {
     "iopub.execute_input": "2021-11-18T15:08:01.024508Z",
     "iopub.status.busy": "2021-11-18T15:08:01.023461Z",
     "iopub.status.idle": "2021-11-18T15:08:01.029055Z",
     "shell.execute_reply": "2021-11-18T15:08:01.029572Z",
     "shell.execute_reply.started": "2021-11-18T14:47:36.465130Z"
    },
    "papermill": {
     "duration": 0.030295,
     "end_time": "2021-11-18T15:08:01.029748",
     "exception": false,
     "start_time": "2021-11-18T15:08:00.999453",
     "status": "completed"
    },
    "tags": []
   },
   "outputs": [],
   "source": [
    "df['Sex']=df['Sex'].astype('float')"
   ]
  },
  {
   "cell_type": "code",
   "execution_count": 8,
   "id": "1b240da1",
   "metadata": {
    "execution": {
     "iopub.execute_input": "2021-11-18T15:08:01.073775Z",
     "iopub.status.busy": "2021-11-18T15:08:01.072821Z",
     "iopub.status.idle": "2021-11-18T15:08:01.087049Z",
     "shell.execute_reply": "2021-11-18T15:08:01.086360Z",
     "shell.execute_reply.started": "2021-11-18T14:47:36.475387Z"
    },
    "papermill": {
     "duration": 0.036608,
     "end_time": "2021-11-18T15:08:01.087198",
     "exception": false,
     "start_time": "2021-11-18T15:08:01.050590",
     "status": "completed"
    },
    "tags": []
   },
   "outputs": [
    {
     "name": "stdout",
     "output_type": "stream",
     "text": [
      "<class 'pandas.core.frame.DataFrame'>\n",
      "RangeIndex: 4177 entries, 0 to 4176\n",
      "Data columns (total 9 columns):\n",
      " #   Column          Non-Null Count  Dtype  \n",
      "---  ------          --------------  -----  \n",
      " 0   Sex             4177 non-null   float64\n",
      " 1   Length          4177 non-null   float64\n",
      " 2   Diameter        4177 non-null   float64\n",
      " 3   Height          4177 non-null   float64\n",
      " 4   Whole weight    4177 non-null   float64\n",
      " 5   Shucked weight  4177 non-null   float64\n",
      " 6   Viscera weight  4177 non-null   float64\n",
      " 7   Shell weight    4177 non-null   float64\n",
      " 8   Rings           4177 non-null   int64  \n",
      "dtypes: float64(8), int64(1)\n",
      "memory usage: 293.8 KB\n"
     ]
    }
   ],
   "source": [
    "df.info()"
   ]
  },
  {
   "cell_type": "markdown",
   "id": "21275ebe",
   "metadata": {
    "papermill": {
     "duration": 0.02061,
     "end_time": "2021-11-18T15:08:01.170763",
     "exception": false,
     "start_time": "2021-11-18T15:08:01.150153",
     "status": "completed"
    },
    "tags": []
   },
   "source": [
    "**Data Overview**"
   ]
  },
  {
   "cell_type": "code",
   "execution_count": 9,
   "id": "c74c8583",
   "metadata": {
    "execution": {
     "iopub.execute_input": "2021-11-18T15:08:01.219638Z",
     "iopub.status.busy": "2021-11-18T15:08:01.214706Z",
     "iopub.status.idle": "2021-11-18T15:08:01.257218Z",
     "shell.execute_reply": "2021-11-18T15:08:01.257712Z",
     "shell.execute_reply.started": "2021-11-18T14:47:36.498729Z"
    },
    "papermill": {
     "duration": 0.06765,
     "end_time": "2021-11-18T15:08:01.257907",
     "exception": false,
     "start_time": "2021-11-18T15:08:01.190257",
     "status": "completed"
    },
    "tags": []
   },
   "outputs": [
    {
     "data": {
      "text/html": [
       "<div>\n",
       "<style scoped>\n",
       "    .dataframe tbody tr th:only-of-type {\n",
       "        vertical-align: middle;\n",
       "    }\n",
       "\n",
       "    .dataframe tbody tr th {\n",
       "        vertical-align: top;\n",
       "    }\n",
       "\n",
       "    .dataframe thead th {\n",
       "        text-align: right;\n",
       "    }\n",
       "</style>\n",
       "<table border=\"1\" class=\"dataframe\">\n",
       "  <thead>\n",
       "    <tr style=\"text-align: right;\">\n",
       "      <th></th>\n",
       "      <th>Sex</th>\n",
       "      <th>Length</th>\n",
       "      <th>Diameter</th>\n",
       "      <th>Height</th>\n",
       "      <th>Whole weight</th>\n",
       "      <th>Shucked weight</th>\n",
       "      <th>Viscera weight</th>\n",
       "      <th>Shell weight</th>\n",
       "      <th>Rings</th>\n",
       "    </tr>\n",
       "  </thead>\n",
       "  <tbody>\n",
       "    <tr>\n",
       "      <th>count</th>\n",
       "      <td>4177.000000</td>\n",
       "      <td>4177.000000</td>\n",
       "      <td>4177.000000</td>\n",
       "      <td>4177.000000</td>\n",
       "      <td>4177.000000</td>\n",
       "      <td>4177.000000</td>\n",
       "      <td>4177.000000</td>\n",
       "      <td>4177.000000</td>\n",
       "      <td>4177.000000</td>\n",
       "    </tr>\n",
       "    <tr>\n",
       "      <th>mean</th>\n",
       "      <td>1.052909</td>\n",
       "      <td>0.523992</td>\n",
       "      <td>0.407881</td>\n",
       "      <td>0.139516</td>\n",
       "      <td>0.828742</td>\n",
       "      <td>0.359367</td>\n",
       "      <td>0.180594</td>\n",
       "      <td>0.238831</td>\n",
       "      <td>9.933684</td>\n",
       "    </tr>\n",
       "    <tr>\n",
       "      <th>std</th>\n",
       "      <td>0.822240</td>\n",
       "      <td>0.120093</td>\n",
       "      <td>0.099240</td>\n",
       "      <td>0.041827</td>\n",
       "      <td>0.490389</td>\n",
       "      <td>0.221963</td>\n",
       "      <td>0.109614</td>\n",
       "      <td>0.139203</td>\n",
       "      <td>3.224169</td>\n",
       "    </tr>\n",
       "    <tr>\n",
       "      <th>min</th>\n",
       "      <td>0.000000</td>\n",
       "      <td>0.075000</td>\n",
       "      <td>0.055000</td>\n",
       "      <td>0.000000</td>\n",
       "      <td>0.002000</td>\n",
       "      <td>0.001000</td>\n",
       "      <td>0.000500</td>\n",
       "      <td>0.001500</td>\n",
       "      <td>1.000000</td>\n",
       "    </tr>\n",
       "    <tr>\n",
       "      <th>25%</th>\n",
       "      <td>0.000000</td>\n",
       "      <td>0.450000</td>\n",
       "      <td>0.350000</td>\n",
       "      <td>0.115000</td>\n",
       "      <td>0.441500</td>\n",
       "      <td>0.186000</td>\n",
       "      <td>0.093500</td>\n",
       "      <td>0.130000</td>\n",
       "      <td>8.000000</td>\n",
       "    </tr>\n",
       "    <tr>\n",
       "      <th>50%</th>\n",
       "      <td>1.000000</td>\n",
       "      <td>0.545000</td>\n",
       "      <td>0.425000</td>\n",
       "      <td>0.140000</td>\n",
       "      <td>0.799500</td>\n",
       "      <td>0.336000</td>\n",
       "      <td>0.171000</td>\n",
       "      <td>0.234000</td>\n",
       "      <td>9.000000</td>\n",
       "    </tr>\n",
       "    <tr>\n",
       "      <th>75%</th>\n",
       "      <td>2.000000</td>\n",
       "      <td>0.615000</td>\n",
       "      <td>0.480000</td>\n",
       "      <td>0.165000</td>\n",
       "      <td>1.153000</td>\n",
       "      <td>0.502000</td>\n",
       "      <td>0.253000</td>\n",
       "      <td>0.329000</td>\n",
       "      <td>11.000000</td>\n",
       "    </tr>\n",
       "    <tr>\n",
       "      <th>max</th>\n",
       "      <td>2.000000</td>\n",
       "      <td>0.815000</td>\n",
       "      <td>0.650000</td>\n",
       "      <td>1.130000</td>\n",
       "      <td>2.825500</td>\n",
       "      <td>1.488000</td>\n",
       "      <td>0.760000</td>\n",
       "      <td>1.005000</td>\n",
       "      <td>29.000000</td>\n",
       "    </tr>\n",
       "  </tbody>\n",
       "</table>\n",
       "</div>"
      ],
      "text/plain": [
       "               Sex       Length     Diameter       Height  Whole weight  \\\n",
       "count  4177.000000  4177.000000  4177.000000  4177.000000   4177.000000   \n",
       "mean      1.052909     0.523992     0.407881     0.139516      0.828742   \n",
       "std       0.822240     0.120093     0.099240     0.041827      0.490389   \n",
       "min       0.000000     0.075000     0.055000     0.000000      0.002000   \n",
       "25%       0.000000     0.450000     0.350000     0.115000      0.441500   \n",
       "50%       1.000000     0.545000     0.425000     0.140000      0.799500   \n",
       "75%       2.000000     0.615000     0.480000     0.165000      1.153000   \n",
       "max       2.000000     0.815000     0.650000     1.130000      2.825500   \n",
       "\n",
       "       Shucked weight  Viscera weight  Shell weight        Rings  \n",
       "count     4177.000000     4177.000000   4177.000000  4177.000000  \n",
       "mean         0.359367        0.180594      0.238831     9.933684  \n",
       "std          0.221963        0.109614      0.139203     3.224169  \n",
       "min          0.001000        0.000500      0.001500     1.000000  \n",
       "25%          0.186000        0.093500      0.130000     8.000000  \n",
       "50%          0.336000        0.171000      0.234000     9.000000  \n",
       "75%          0.502000        0.253000      0.329000    11.000000  \n",
       "max          1.488000        0.760000      1.005000    29.000000  "
      ]
     },
     "execution_count": 9,
     "metadata": {},
     "output_type": "execute_result"
    }
   ],
   "source": [
    "df.describe()"
   ]
  },
  {
   "cell_type": "markdown",
   "id": "3e67bf5d",
   "metadata": {
    "papermill": {
     "duration": 0.021623,
     "end_time": "2021-11-18T15:08:01.299816",
     "exception": false,
     "start_time": "2021-11-18T15:08:01.278193",
     "status": "completed"
    },
    "tags": []
   },
   "source": [
    "**Correlation between Input Variables**"
   ]
  },
  {
   "cell_type": "code",
   "execution_count": 10,
   "id": "b772868b",
   "metadata": {
    "execution": {
     "iopub.execute_input": "2021-11-18T15:08:01.344887Z",
     "iopub.status.busy": "2021-11-18T15:08:01.344101Z",
     "iopub.status.idle": "2021-11-18T15:08:01.359896Z",
     "shell.execute_reply": "2021-11-18T15:08:01.360464Z",
     "shell.execute_reply.started": "2021-11-18T14:47:36.538553Z"
    },
    "papermill": {
     "duration": 0.040705,
     "end_time": "2021-11-18T15:08:01.360629",
     "exception": false,
     "start_time": "2021-11-18T15:08:01.319924",
     "status": "completed"
    },
    "tags": []
   },
   "outputs": [
    {
     "data": {
      "text/html": [
       "<div>\n",
       "<style scoped>\n",
       "    .dataframe tbody tr th:only-of-type {\n",
       "        vertical-align: middle;\n",
       "    }\n",
       "\n",
       "    .dataframe tbody tr th {\n",
       "        vertical-align: top;\n",
       "    }\n",
       "\n",
       "    .dataframe thead th {\n",
       "        text-align: right;\n",
       "    }\n",
       "</style>\n",
       "<table border=\"1\" class=\"dataframe\">\n",
       "  <thead>\n",
       "    <tr style=\"text-align: right;\">\n",
       "      <th></th>\n",
       "      <th>Sex</th>\n",
       "      <th>Length</th>\n",
       "      <th>Diameter</th>\n",
       "      <th>Height</th>\n",
       "      <th>Whole weight</th>\n",
       "      <th>Shucked weight</th>\n",
       "      <th>Viscera weight</th>\n",
       "      <th>Shell weight</th>\n",
       "      <th>Rings</th>\n",
       "    </tr>\n",
       "  </thead>\n",
       "  <tbody>\n",
       "    <tr>\n",
       "      <th>Sex</th>\n",
       "      <td>1.000000</td>\n",
       "      <td>-0.036066</td>\n",
       "      <td>-0.038874</td>\n",
       "      <td>-0.042077</td>\n",
       "      <td>-0.021391</td>\n",
       "      <td>-0.001373</td>\n",
       "      <td>-0.032067</td>\n",
       "      <td>-0.034854</td>\n",
       "      <td>-0.034627</td>\n",
       "    </tr>\n",
       "    <tr>\n",
       "      <th>Length</th>\n",
       "      <td>-0.036066</td>\n",
       "      <td>1.000000</td>\n",
       "      <td>0.986812</td>\n",
       "      <td>0.827554</td>\n",
       "      <td>0.925261</td>\n",
       "      <td>0.897914</td>\n",
       "      <td>0.903018</td>\n",
       "      <td>0.897706</td>\n",
       "      <td>0.556720</td>\n",
       "    </tr>\n",
       "    <tr>\n",
       "      <th>Diameter</th>\n",
       "      <td>-0.038874</td>\n",
       "      <td>0.986812</td>\n",
       "      <td>1.000000</td>\n",
       "      <td>0.833684</td>\n",
       "      <td>0.925452</td>\n",
       "      <td>0.893162</td>\n",
       "      <td>0.899724</td>\n",
       "      <td>0.905330</td>\n",
       "      <td>0.574660</td>\n",
       "    </tr>\n",
       "    <tr>\n",
       "      <th>Height</th>\n",
       "      <td>-0.042077</td>\n",
       "      <td>0.827554</td>\n",
       "      <td>0.833684</td>\n",
       "      <td>1.000000</td>\n",
       "      <td>0.819221</td>\n",
       "      <td>0.774972</td>\n",
       "      <td>0.798319</td>\n",
       "      <td>0.817338</td>\n",
       "      <td>0.557467</td>\n",
       "    </tr>\n",
       "    <tr>\n",
       "      <th>Whole weight</th>\n",
       "      <td>-0.021391</td>\n",
       "      <td>0.925261</td>\n",
       "      <td>0.925452</td>\n",
       "      <td>0.819221</td>\n",
       "      <td>1.000000</td>\n",
       "      <td>0.969405</td>\n",
       "      <td>0.966375</td>\n",
       "      <td>0.955355</td>\n",
       "      <td>0.540390</td>\n",
       "    </tr>\n",
       "    <tr>\n",
       "      <th>Shucked weight</th>\n",
       "      <td>-0.001373</td>\n",
       "      <td>0.897914</td>\n",
       "      <td>0.893162</td>\n",
       "      <td>0.774972</td>\n",
       "      <td>0.969405</td>\n",
       "      <td>1.000000</td>\n",
       "      <td>0.931961</td>\n",
       "      <td>0.882617</td>\n",
       "      <td>0.420884</td>\n",
       "    </tr>\n",
       "    <tr>\n",
       "      <th>Viscera weight</th>\n",
       "      <td>-0.032067</td>\n",
       "      <td>0.903018</td>\n",
       "      <td>0.899724</td>\n",
       "      <td>0.798319</td>\n",
       "      <td>0.966375</td>\n",
       "      <td>0.931961</td>\n",
       "      <td>1.000000</td>\n",
       "      <td>0.907656</td>\n",
       "      <td>0.503819</td>\n",
       "    </tr>\n",
       "    <tr>\n",
       "      <th>Shell weight</th>\n",
       "      <td>-0.034854</td>\n",
       "      <td>0.897706</td>\n",
       "      <td>0.905330</td>\n",
       "      <td>0.817338</td>\n",
       "      <td>0.955355</td>\n",
       "      <td>0.882617</td>\n",
       "      <td>0.907656</td>\n",
       "      <td>1.000000</td>\n",
       "      <td>0.627574</td>\n",
       "    </tr>\n",
       "    <tr>\n",
       "      <th>Rings</th>\n",
       "      <td>-0.034627</td>\n",
       "      <td>0.556720</td>\n",
       "      <td>0.574660</td>\n",
       "      <td>0.557467</td>\n",
       "      <td>0.540390</td>\n",
       "      <td>0.420884</td>\n",
       "      <td>0.503819</td>\n",
       "      <td>0.627574</td>\n",
       "      <td>1.000000</td>\n",
       "    </tr>\n",
       "  </tbody>\n",
       "</table>\n",
       "</div>"
      ],
      "text/plain": [
       "                     Sex    Length  Diameter    Height  Whole weight  \\\n",
       "Sex             1.000000 -0.036066 -0.038874 -0.042077     -0.021391   \n",
       "Length         -0.036066  1.000000  0.986812  0.827554      0.925261   \n",
       "Diameter       -0.038874  0.986812  1.000000  0.833684      0.925452   \n",
       "Height         -0.042077  0.827554  0.833684  1.000000      0.819221   \n",
       "Whole weight   -0.021391  0.925261  0.925452  0.819221      1.000000   \n",
       "Shucked weight -0.001373  0.897914  0.893162  0.774972      0.969405   \n",
       "Viscera weight -0.032067  0.903018  0.899724  0.798319      0.966375   \n",
       "Shell weight   -0.034854  0.897706  0.905330  0.817338      0.955355   \n",
       "Rings          -0.034627  0.556720  0.574660  0.557467      0.540390   \n",
       "\n",
       "                Shucked weight  Viscera weight  Shell weight     Rings  \n",
       "Sex                  -0.001373       -0.032067     -0.034854 -0.034627  \n",
       "Length                0.897914        0.903018      0.897706  0.556720  \n",
       "Diameter              0.893162        0.899724      0.905330  0.574660  \n",
       "Height                0.774972        0.798319      0.817338  0.557467  \n",
       "Whole weight          0.969405        0.966375      0.955355  0.540390  \n",
       "Shucked weight        1.000000        0.931961      0.882617  0.420884  \n",
       "Viscera weight        0.931961        1.000000      0.907656  0.503819  \n",
       "Shell weight          0.882617        0.907656      1.000000  0.627574  \n",
       "Rings                 0.420884        0.503819      0.627574  1.000000  "
      ]
     },
     "execution_count": 10,
     "metadata": {},
     "output_type": "execute_result"
    }
   ],
   "source": [
    "df.corr()"
   ]
  },
  {
   "cell_type": "markdown",
   "id": "5500f804",
   "metadata": {
    "papermill": {
     "duration": 0.021475,
     "end_time": "2021-11-18T15:08:01.403511",
     "exception": false,
     "start_time": "2021-11-18T15:08:01.382036",
     "status": "completed"
    },
    "tags": []
   },
   "source": [
    "**Separate Predictors and Target**"
   ]
  },
  {
   "cell_type": "code",
   "execution_count": 11,
   "id": "f9b92b26",
   "metadata": {
    "execution": {
     "iopub.execute_input": "2021-11-18T15:08:01.451988Z",
     "iopub.status.busy": "2021-11-18T15:08:01.451301Z",
     "iopub.status.idle": "2021-11-18T15:08:01.455659Z",
     "shell.execute_reply": "2021-11-18T15:08:01.456121Z",
     "shell.execute_reply.started": "2021-11-18T14:47:36.579007Z"
    },
    "papermill": {
     "duration": 0.030817,
     "end_time": "2021-11-18T15:08:01.456303",
     "exception": false,
     "start_time": "2021-11-18T15:08:01.425486",
     "status": "completed"
    },
    "tags": []
   },
   "outputs": [],
   "source": [
    "X = df.iloc[:, :-1].values\n",
    "y = df.iloc[:, -1].values"
   ]
  },
  {
   "cell_type": "code",
   "execution_count": 12,
   "id": "de0b8f00",
   "metadata": {
    "execution": {
     "iopub.execute_input": "2021-11-18T15:08:01.501829Z",
     "iopub.status.busy": "2021-11-18T15:08:01.500226Z",
     "iopub.status.idle": "2021-11-18T15:08:01.507047Z",
     "shell.execute_reply": "2021-11-18T15:08:01.507511Z",
     "shell.execute_reply.started": "2021-11-18T14:49:50.037592Z"
    },
    "papermill": {
     "duration": 0.030702,
     "end_time": "2021-11-18T15:08:01.507700",
     "exception": false,
     "start_time": "2021-11-18T15:08:01.476998",
     "status": "completed"
    },
    "tags": []
   },
   "outputs": [
    {
     "data": {
      "text/plain": [
       "array([[2.    , 0.455 , 0.365 , ..., 0.2245, 0.101 , 0.15  ],\n",
       "       [2.    , 0.35  , 0.265 , ..., 0.0995, 0.0485, 0.07  ],\n",
       "       [0.    , 0.53  , 0.42  , ..., 0.2565, 0.1415, 0.21  ],\n",
       "       ...,\n",
       "       [2.    , 0.6   , 0.475 , ..., 0.5255, 0.2875, 0.308 ],\n",
       "       [0.    , 0.625 , 0.485 , ..., 0.531 , 0.261 , 0.296 ],\n",
       "       [2.    , 0.71  , 0.555 , ..., 0.9455, 0.3765, 0.495 ]])"
      ]
     },
     "execution_count": 12,
     "metadata": {},
     "output_type": "execute_result"
    }
   ],
   "source": [
    "X"
   ]
  },
  {
   "cell_type": "code",
   "execution_count": 13,
   "id": "9f3ab82d",
   "metadata": {
    "execution": {
     "iopub.execute_input": "2021-11-18T15:08:01.562824Z",
     "iopub.status.busy": "2021-11-18T15:08:01.560867Z",
     "iopub.status.idle": "2021-11-18T15:08:01.566285Z",
     "shell.execute_reply": "2021-11-18T15:08:01.566751Z",
     "shell.execute_reply.started": "2021-11-18T14:49:44.086965Z"
    },
    "papermill": {
     "duration": 0.036896,
     "end_time": "2021-11-18T15:08:01.566962",
     "exception": false,
     "start_time": "2021-11-18T15:08:01.530066",
     "status": "completed"
    },
    "tags": []
   },
   "outputs": [
    {
     "data": {
      "text/plain": [
       "array([15,  7,  9, ...,  9, 10, 12], dtype=int64)"
      ]
     },
     "execution_count": 13,
     "metadata": {},
     "output_type": "execute_result"
    }
   ],
   "source": [
    "y"
   ]
  },
  {
   "cell_type": "markdown",
   "id": "feec6f9b",
   "metadata": {
    "papermill": {
     "duration": 0.025391,
     "end_time": "2021-11-18T15:08:01.623410",
     "exception": false,
     "start_time": "2021-11-18T15:08:01.598019",
     "status": "completed"
    },
    "tags": []
   },
   "source": [
    "**Split Data into Training and Testing**"
   ]
  },
  {
   "cell_type": "code",
   "execution_count": 14,
   "id": "f1bd5558",
   "metadata": {
    "execution": {
     "iopub.execute_input": "2021-11-18T15:08:01.673220Z",
     "iopub.status.busy": "2021-11-18T15:08:01.672296Z",
     "iopub.status.idle": "2021-11-18T15:08:01.678091Z",
     "shell.execute_reply": "2021-11-18T15:08:01.678607Z",
     "shell.execute_reply.started": "2021-11-18T14:47:36.592403Z"
    },
    "papermill": {
     "duration": 0.030158,
     "end_time": "2021-11-18T15:08:01.678775",
     "exception": false,
     "start_time": "2021-11-18T15:08:01.648617",
     "status": "completed"
    },
    "tags": []
   },
   "outputs": [],
   "source": [
    "X_train, X_test, y_train, y_test = train_test_split(X, y, test_size = 0.2, random_state = 0)"
   ]
  },
  {
   "cell_type": "markdown",
   "id": "41c365a5",
   "metadata": {
    "papermill": {
     "duration": 0.020602,
     "end_time": "2021-11-18T15:08:01.721567",
     "exception": false,
     "start_time": "2021-11-18T15:08:01.700965",
     "status": "completed"
    },
    "tags": []
   },
   "source": [
    "**Make Pipeline**"
   ]
  },
  {
   "cell_type": "code",
   "execution_count": 15,
   "id": "e86183e2",
   "metadata": {
    "execution": {
     "iopub.execute_input": "2021-11-18T15:08:01.767120Z",
     "iopub.status.busy": "2021-11-18T15:08:01.766491Z",
     "iopub.status.idle": "2021-11-18T15:08:01.774269Z",
     "shell.execute_reply": "2021-11-18T15:08:01.774703Z",
     "shell.execute_reply.started": "2021-11-18T14:47:42.922368Z"
    },
    "papermill": {
     "duration": 0.032494,
     "end_time": "2021-11-18T15:08:01.774919",
     "exception": false,
     "start_time": "2021-11-18T15:08:01.742425",
     "status": "completed"
    },
    "tags": []
   },
   "outputs": [],
   "source": [
    "from sklearn.pipeline import make_pipeline\n",
    "from sklearn.linear_model import Ridge, Lasso, ElasticNet\n",
    "from sklearn.ensemble import GradientBoostingRegressor\n",
    "pipelines={\n",
    "'rf':make_pipeline(RandomForestRegressor(random_state=1234)),\n",
    "'gb':make_pipeline(GradientBoostingRegressor(random_state=1234)),\n",
    "'ridge':make_pipeline(Ridge(random_state=1234)),\n",
    "'lasso':make_pipeline(Lasso(random_state=1234)),\n",
    "'enet':make_pipeline(ElasticNet(random_state=1234)),\n",
    "}"
   ]
  },
  {
   "cell_type": "code",
   "execution_count": 16,
   "id": "49b6bdda",
   "metadata": {
    "execution": {
     "iopub.execute_input": "2021-11-18T15:08:01.821141Z",
     "iopub.status.busy": "2021-11-18T15:08:01.820185Z",
     "iopub.status.idle": "2021-11-18T15:08:01.825744Z",
     "shell.execute_reply": "2021-11-18T15:08:01.826278Z",
     "shell.execute_reply.started": "2021-11-18T14:47:42.935193Z"
    },
    "papermill": {
     "duration": 0.030315,
     "end_time": "2021-11-18T15:08:01.826458",
     "exception": false,
     "start_time": "2021-11-18T15:08:01.796143",
     "status": "completed"
    },
    "tags": []
   },
   "outputs": [],
   "source": [
    "hyperparagrid={\n",
    "'rf':{\n",
    "'randomforestregressor__min_samples_split':[2,4,6],\n",
    "'randomforestregressor__min_samples_leaf':[1,2,3]\n",
    "},\n",
    "    \n",
    "'gb':{\n",
    "    'gradientboostingregressor__alpha':[0.001,0.005,0.01,0.05,0.1,0.5,0.99]\n",
    "},\n",
    "\n",
    "'ridge':{\n",
    "    'ridge__alpha':[0.001,0.005,0.01,0.05,0.1,0.5,0.99]\n",
    "},\n",
    "'lasso':{\n",
    "    'lasso__alpha':[0.001,0.005,0.01,0.05,0.1,0.5,0.99]\n",
    "},\n",
    "'enet':{\n",
    "    'elasticnet__alpha':[0.001,0.005,0.01,0.05,0.1,0.5,0.99]\n",
    "}\n",
    "\n",
    "}"
   ]
  },
  {
   "cell_type": "code",
   "execution_count": 17,
   "id": "162bedfc",
   "metadata": {
    "execution": {
     "iopub.execute_input": "2021-11-18T15:08:01.872188Z",
     "iopub.status.busy": "2021-11-18T15:08:01.871186Z",
     "iopub.status.idle": "2021-11-18T15:08:01.875281Z",
     "shell.execute_reply": "2021-11-18T15:08:01.875813Z",
     "shell.execute_reply.started": "2021-11-18T14:47:42.952084Z"
    },
    "papermill": {
     "duration": 0.028802,
     "end_time": "2021-11-18T15:08:01.876009",
     "exception": false,
     "start_time": "2021-11-18T15:08:01.847207",
     "status": "completed"
    },
    "tags": []
   },
   "outputs": [],
   "source": [
    "from sklearn.model_selection import GridSearchCV\n",
    "from sklearn.exceptions import NotFittedError\n",
    "from sklearn.metrics import r2_score,mean_absolute_error"
   ]
  },
  {
   "cell_type": "markdown",
   "id": "16f4a8b9",
   "metadata": {
    "papermill": {
     "duration": 0.021438,
     "end_time": "2021-11-18T15:08:01.920031",
     "exception": false,
     "start_time": "2021-11-18T15:08:01.898593",
     "status": "completed"
    },
    "tags": []
   },
   "source": [
    "**Fit Models**"
   ]
  },
  {
   "cell_type": "code",
   "execution_count": 18,
   "id": "ef45a25b",
   "metadata": {
    "execution": {
     "iopub.execute_input": "2021-11-18T15:08:01.966278Z",
     "iopub.status.busy": "2021-11-18T15:08:01.965353Z",
     "iopub.status.idle": "2021-11-18T15:09:02.412750Z",
     "shell.execute_reply": "2021-11-18T15:09:02.414374Z",
     "shell.execute_reply.started": "2021-11-18T14:47:42.963317Z"
    },
    "papermill": {
     "duration": 60.472965,
     "end_time": "2021-11-18T15:09:02.414690",
     "exception": false,
     "start_time": "2021-11-18T15:08:01.941725",
     "status": "completed"
    },
    "tags": []
   },
   "outputs": [
    {
     "name": "stdout",
     "output_type": "stream",
     "text": [
      "Start training for rf\n",
      "Start training for gb\n",
      "Start training for ridge\n",
      "Start training for lasso\n",
      "Start training for enet\n"
     ]
    }
   ],
   "source": [
    "fit_models={}\n",
    "for algo,pipeline in pipelines.items():\n",
    "    model=GridSearchCV(pipeline,hyperparagrid[algo],cv=10,n_jobs=-1)\n",
    "    try:\n",
    "        print('Start training for {}'.format(algo))\n",
    "        model.fit(X_train,y_train)\n",
    "        fit_models[algo]=model\n",
    "    except NotFittedError as e:\n",
    "        print(repr(e))"
   ]
  },
  {
   "cell_type": "markdown",
   "id": "c4026a58",
   "metadata": {
    "papermill": {
     "duration": 0.044731,
     "end_time": "2021-11-18T15:09:02.505831",
     "exception": false,
     "start_time": "2021-11-18T15:09:02.461100",
     "status": "completed"
    },
    "tags": []
   },
   "source": [
    "**Predict our Target value**"
   ]
  },
  {
   "cell_type": "code",
   "execution_count": 19,
   "id": "ebc00fbd",
   "metadata": {
    "execution": {
     "iopub.execute_input": "2021-11-18T15:09:02.561880Z",
     "iopub.status.busy": "2021-11-18T15:09:02.560879Z",
     "iopub.status.idle": "2021-11-18T15:09:02.590905Z",
     "shell.execute_reply": "2021-11-18T15:09:02.591426Z",
     "shell.execute_reply.started": "2021-11-18T14:48:44.135012Z"
    },
    "papermill": {
     "duration": 0.057951,
     "end_time": "2021-11-18T15:09:02.591598",
     "exception": false,
     "start_time": "2021-11-18T15:09:02.533647",
     "status": "completed"
    },
    "tags": []
   },
   "outputs": [
    {
     "name": "stdout",
     "output_type": "stream",
     "text": [
      "rf scores-R2:0.5718176064832873 MAE:1.53317381676338\n",
      "gb scores-R2:0.5679242680278109 MAE:1.5236838865014883\n",
      "ridge scores-R2:0.5275022255520713 MAE:1.6200109002341279\n",
      "lasso scores-R2:0.5280901361725112 MAE:1.6169991592422972\n",
      "enet scores-R2:0.5196433416161732 MAE:1.6370721768084187\n"
     ]
    }
   ],
   "source": [
    "for algo,model in fit_models.items():\n",
    "    ya=model.predict(X_test)\n",
    "    print('{} scores-R2:{} MAE:{}'.format(algo,r2_score(y_test,ya), mean_absolute_error(y_test,ya)))"
   ]
  },
  {
   "cell_type": "markdown",
   "id": "1cc0c937",
   "metadata": {
    "papermill": {
     "duration": 0.022192,
     "end_time": "2021-11-18T15:09:02.637301",
     "exception": false,
     "start_time": "2021-11-18T15:09:02.615109",
     "status": "completed"
    },
    "tags": []
   },
   "source": [
    "**Best Model: Random Forest**"
   ]
  },
  {
   "cell_type": "code",
   "execution_count": 20,
   "id": "b0296771",
   "metadata": {
    "execution": {
     "iopub.execute_input": "2021-11-18T15:09:02.685825Z",
     "iopub.status.busy": "2021-11-18T15:09:02.684628Z",
     "iopub.status.idle": "2021-11-18T15:09:02.689046Z",
     "shell.execute_reply": "2021-11-18T15:09:02.688489Z",
     "shell.execute_reply.started": "2021-11-18T15:06:23.727998Z"
    },
    "papermill": {
     "duration": 0.02992,
     "end_time": "2021-11-18T15:09:02.689188",
     "exception": false,
     "start_time": "2021-11-18T15:09:02.659268",
     "status": "completed"
    },
    "tags": []
   },
   "outputs": [],
   "source": [
    "best_model=fit_models['rf']"
   ]
  },
  {
   "cell_type": "code",
   "execution_count": 21,
   "id": "6e1223b0",
   "metadata": {
    "execution": {
     "iopub.execute_input": "2021-11-18T15:09:02.742554Z",
     "iopub.status.busy": "2021-11-18T15:09:02.740993Z",
     "iopub.status.idle": "2021-11-18T15:09:02.757165Z",
     "shell.execute_reply": "2021-11-18T15:09:02.757644Z",
     "shell.execute_reply.started": "2021-11-18T15:06:31.646638Z"
    },
    "papermill": {
     "duration": 0.046223,
     "end_time": "2021-11-18T15:09:02.757872",
     "exception": false,
     "start_time": "2021-11-18T15:09:02.711649",
     "status": "completed"
    },
    "tags": []
   },
   "outputs": [
    {
     "data": {
      "text/plain": [
       "GridSearchCV(cv=10,\n",
       "             estimator=Pipeline(steps=[('randomforestregressor',\n",
       "                                        RandomForestRegressor(random_state=1234))]),\n",
       "             n_jobs=-1,\n",
       "             param_grid={'randomforestregressor__min_samples_leaf': [1, 2, 3],\n",
       "                         'randomforestregressor__min_samples_split': [2, 4, 6]})"
      ]
     },
     "execution_count": 21,
     "metadata": {},
     "output_type": "execute_result"
    }
   ],
   "source": [
    "best_model"
   ]
  }
 ],
 "metadata": {
  "kernelspec": {
   "display_name": "Python 3",
   "language": "python",
   "name": "python3"
  },
  "language_info": {
   "codemirror_mode": {
    "name": "ipython",
    "version": 3
   },
   "file_extension": ".py",
   "mimetype": "text/x-python",
   "name": "python",
   "nbconvert_exporter": "python",
   "pygments_lexer": "ipython3",
   "version": "3.8.8"
  },
  "papermill": {
   "default_parameters": {},
   "duration": 72.694811,
   "end_time": "2021-11-18T15:09:03.638133",
   "environment_variables": {},
   "exception": null,
   "input_path": "__notebook__.ipynb",
   "output_path": "__notebook__.ipynb",
   "parameters": {},
   "start_time": "2021-11-18T15:07:50.943322",
   "version": "2.3.3"
  }
 },
 "nbformat": 4,
 "nbformat_minor": 5
}
