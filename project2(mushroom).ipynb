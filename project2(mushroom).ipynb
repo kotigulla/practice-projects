{
 "cells": [
  {
   "cell_type": "markdown",
   "metadata": {
    "_cell_guid": "8dbf1fa6-5991-474d-a5f1-d17b06a7f31b",
    "_uuid": "571b46418e7f3d2208517a65a2a8bc8f6e31c296"
   },
   "source": [
    "This is the first Kernel that I have ever published on Kaggle. Took me 3 months of learning to finally pluck up the courage and post my intital work on this reputed site. I really hope the Kernel helps novice Data Scientists/Machine Learning engineers like me understand the basic concepts of Machine Learning. Feedback would be HIGHLY appreciated, and would help me become a better coder :) Thank you for taking the time out in reading this."
   ]
  },
  {
   "cell_type": "markdown",
   "metadata": {},
   "source": [
    "I have used the following algortihms and calculated the AUC and accuracy for each of the Supervised learning algos. I am still a noob in the Unsupervised learning section, but I feel I'm making progress! :) \n",
    "Supevised Learning - Logistic Regression, Naive Bayes, Decision Trees, Random Forests\n",
    "Unsupervised Learning - Principal Component Analysis (PCA), KMeans (Flat Clustering), MeanShift (Hierarchical Clustering)"
   ]
  },
  {
   "cell_type": "code",
   "execution_count": 2,
   "metadata": {
    "_cell_guid": "760f1cf3-79a5-4e10-87de-aafc38d34864",
    "_uuid": "39b1bb755d60a11008fed718ff25848c2231d418"
   },
   "outputs": [],
   "source": [
    "import numpy as np\n",
    "import pandas as pd\n",
    "import sklearn\n",
    "import seaborn as sns\n",
    "import matplotlib.pyplot as plt\n",
    "%matplotlib inline"
   ]
  },
  {
   "cell_type": "code",
   "execution_count": 3,
   "metadata": {
    "_cell_guid": "0de6c318-5617-491d-a936-765a455b9f7f",
    "_uuid": "72cb4082b72505bef1b76c6961f356ca2512dac0"
   },
   "outputs": [],
   "source": [
    "data = pd.read_csv(\"https://raw.githubusercontent.com/dsrscientist/dataset1/master/mushrooms.csv\")"
   ]
  },
  {
   "cell_type": "code",
   "execution_count": 4,
   "metadata": {
    "_cell_guid": "3d734c58-8e48-4968-8531-be2e13644262",
    "_uuid": "4313ebcc3aec6e8d2563cda066428d498e9b4fa4"
   },
   "outputs": [
    {
     "data": {
      "text/plain": [
       "(8124, 23)"
      ]
     },
     "execution_count": 4,
     "metadata": {},
     "output_type": "execute_result"
    }
   ],
   "source": [
    "data.shape"
   ]
  },
  {
   "cell_type": "code",
   "execution_count": 5,
   "metadata": {
    "_cell_guid": "1dabb02e-6b96-4948-a5e6-eab454047a6f",
    "_uuid": "622742b42183b641a32997d6beaf1c8296bdcc63"
   },
   "outputs": [
    {
     "data": {
      "text/html": [
       "<div>\n",
       "<style scoped>\n",
       "    .dataframe tbody tr th:only-of-type {\n",
       "        vertical-align: middle;\n",
       "    }\n",
       "\n",
       "    .dataframe tbody tr th {\n",
       "        vertical-align: top;\n",
       "    }\n",
       "\n",
       "    .dataframe thead th {\n",
       "        text-align: right;\n",
       "    }\n",
       "</style>\n",
       "<table border=\"1\" class=\"dataframe\">\n",
       "  <thead>\n",
       "    <tr style=\"text-align: right;\">\n",
       "      <th></th>\n",
       "      <th>class</th>\n",
       "      <th>cap-shape</th>\n",
       "      <th>cap-surface</th>\n",
       "      <th>cap-color</th>\n",
       "      <th>bruises</th>\n",
       "      <th>odor</th>\n",
       "      <th>gill-attachment</th>\n",
       "      <th>gill-spacing</th>\n",
       "      <th>gill-size</th>\n",
       "      <th>gill-color</th>\n",
       "      <th>...</th>\n",
       "      <th>stalk-surface-below-ring</th>\n",
       "      <th>stalk-color-above-ring</th>\n",
       "      <th>stalk-color-below-ring</th>\n",
       "      <th>veil-type</th>\n",
       "      <th>veil-color</th>\n",
       "      <th>ring-number</th>\n",
       "      <th>ring-type</th>\n",
       "      <th>spore-print-color</th>\n",
       "      <th>population</th>\n",
       "      <th>habitat</th>\n",
       "    </tr>\n",
       "  </thead>\n",
       "  <tbody>\n",
       "    <tr>\n",
       "      <th>0</th>\n",
       "      <td>p</td>\n",
       "      <td>x</td>\n",
       "      <td>s</td>\n",
       "      <td>n</td>\n",
       "      <td>t</td>\n",
       "      <td>p</td>\n",
       "      <td>f</td>\n",
       "      <td>c</td>\n",
       "      <td>n</td>\n",
       "      <td>k</td>\n",
       "      <td>...</td>\n",
       "      <td>s</td>\n",
       "      <td>w</td>\n",
       "      <td>w</td>\n",
       "      <td>p</td>\n",
       "      <td>w</td>\n",
       "      <td>o</td>\n",
       "      <td>p</td>\n",
       "      <td>k</td>\n",
       "      <td>s</td>\n",
       "      <td>u</td>\n",
       "    </tr>\n",
       "    <tr>\n",
       "      <th>1</th>\n",
       "      <td>e</td>\n",
       "      <td>x</td>\n",
       "      <td>s</td>\n",
       "      <td>y</td>\n",
       "      <td>t</td>\n",
       "      <td>a</td>\n",
       "      <td>f</td>\n",
       "      <td>c</td>\n",
       "      <td>b</td>\n",
       "      <td>k</td>\n",
       "      <td>...</td>\n",
       "      <td>s</td>\n",
       "      <td>w</td>\n",
       "      <td>w</td>\n",
       "      <td>p</td>\n",
       "      <td>w</td>\n",
       "      <td>o</td>\n",
       "      <td>p</td>\n",
       "      <td>n</td>\n",
       "      <td>n</td>\n",
       "      <td>g</td>\n",
       "    </tr>\n",
       "    <tr>\n",
       "      <th>2</th>\n",
       "      <td>e</td>\n",
       "      <td>b</td>\n",
       "      <td>s</td>\n",
       "      <td>w</td>\n",
       "      <td>t</td>\n",
       "      <td>l</td>\n",
       "      <td>f</td>\n",
       "      <td>c</td>\n",
       "      <td>b</td>\n",
       "      <td>n</td>\n",
       "      <td>...</td>\n",
       "      <td>s</td>\n",
       "      <td>w</td>\n",
       "      <td>w</td>\n",
       "      <td>p</td>\n",
       "      <td>w</td>\n",
       "      <td>o</td>\n",
       "      <td>p</td>\n",
       "      <td>n</td>\n",
       "      <td>n</td>\n",
       "      <td>m</td>\n",
       "    </tr>\n",
       "    <tr>\n",
       "      <th>3</th>\n",
       "      <td>p</td>\n",
       "      <td>x</td>\n",
       "      <td>y</td>\n",
       "      <td>w</td>\n",
       "      <td>t</td>\n",
       "      <td>p</td>\n",
       "      <td>f</td>\n",
       "      <td>c</td>\n",
       "      <td>n</td>\n",
       "      <td>n</td>\n",
       "      <td>...</td>\n",
       "      <td>s</td>\n",
       "      <td>w</td>\n",
       "      <td>w</td>\n",
       "      <td>p</td>\n",
       "      <td>w</td>\n",
       "      <td>o</td>\n",
       "      <td>p</td>\n",
       "      <td>k</td>\n",
       "      <td>s</td>\n",
       "      <td>u</td>\n",
       "    </tr>\n",
       "    <tr>\n",
       "      <th>4</th>\n",
       "      <td>e</td>\n",
       "      <td>x</td>\n",
       "      <td>s</td>\n",
       "      <td>g</td>\n",
       "      <td>f</td>\n",
       "      <td>n</td>\n",
       "      <td>f</td>\n",
       "      <td>w</td>\n",
       "      <td>b</td>\n",
       "      <td>k</td>\n",
       "      <td>...</td>\n",
       "      <td>s</td>\n",
       "      <td>w</td>\n",
       "      <td>w</td>\n",
       "      <td>p</td>\n",
       "      <td>w</td>\n",
       "      <td>o</td>\n",
       "      <td>e</td>\n",
       "      <td>n</td>\n",
       "      <td>a</td>\n",
       "      <td>g</td>\n",
       "    </tr>\n",
       "  </tbody>\n",
       "</table>\n",
       "<p>5 rows × 23 columns</p>\n",
       "</div>"
      ],
      "text/plain": [
       "  class cap-shape cap-surface cap-color bruises odor gill-attachment  \\\n",
       "0     p         x           s         n       t    p               f   \n",
       "1     e         x           s         y       t    a               f   \n",
       "2     e         b           s         w       t    l               f   \n",
       "3     p         x           y         w       t    p               f   \n",
       "4     e         x           s         g       f    n               f   \n",
       "\n",
       "  gill-spacing gill-size gill-color  ... stalk-surface-below-ring  \\\n",
       "0            c         n          k  ...                        s   \n",
       "1            c         b          k  ...                        s   \n",
       "2            c         b          n  ...                        s   \n",
       "3            c         n          n  ...                        s   \n",
       "4            w         b          k  ...                        s   \n",
       "\n",
       "  stalk-color-above-ring stalk-color-below-ring veil-type veil-color  \\\n",
       "0                      w                      w         p          w   \n",
       "1                      w                      w         p          w   \n",
       "2                      w                      w         p          w   \n",
       "3                      w                      w         p          w   \n",
       "4                      w                      w         p          w   \n",
       "\n",
       "  ring-number ring-type spore-print-color population habitat  \n",
       "0           o         p                 k          s       u  \n",
       "1           o         p                 n          n       g  \n",
       "2           o         p                 n          n       m  \n",
       "3           o         p                 k          s       u  \n",
       "4           o         e                 n          a       g  \n",
       "\n",
       "[5 rows x 23 columns]"
      ]
     },
     "execution_count": 5,
     "metadata": {},
     "output_type": "execute_result"
    }
   ],
   "source": [
    "data.head()"
   ]
  },
  {
   "cell_type": "code",
   "execution_count": 6,
   "metadata": {
    "_cell_guid": "fac98efd-a096-4ec9-a3c8-db2d5b6ad7c9",
    "_uuid": "8839463b9d1f7558392c311787d264684e9d3509"
   },
   "outputs": [],
   "source": [
    "#ALl the variables are in string format. Convert categorical variables to integer using label encoder\n",
    "from sklearn.preprocessing import LabelEncoder\n",
    "lbl = LabelEncoder()"
   ]
  },
  {
   "cell_type": "code",
   "execution_count": 7,
   "metadata": {
    "_cell_guid": "1dcd54d4-1e9b-4e90-8226-181748b6c0cf",
    "_uuid": "826f2652aaa961541fea4f6b99eed3142eceb0c8"
   },
   "outputs": [],
   "source": [
    "for col in data.columns:\n",
    "    data[col]=lbl.fit_transform(data[col])    "
   ]
  },
  {
   "cell_type": "code",
   "execution_count": 8,
   "metadata": {
    "_cell_guid": "440aeaba-519d-49a4-8430-413e438e45cc",
    "_uuid": "5e52c663f5e2f97543d3514815bd74d371fc5c3e"
   },
   "outputs": [
    {
     "data": {
      "text/html": [
       "<div>\n",
       "<style scoped>\n",
       "    .dataframe tbody tr th:only-of-type {\n",
       "        vertical-align: middle;\n",
       "    }\n",
       "\n",
       "    .dataframe tbody tr th {\n",
       "        vertical-align: top;\n",
       "    }\n",
       "\n",
       "    .dataframe thead th {\n",
       "        text-align: right;\n",
       "    }\n",
       "</style>\n",
       "<table border=\"1\" class=\"dataframe\">\n",
       "  <thead>\n",
       "    <tr style=\"text-align: right;\">\n",
       "      <th></th>\n",
       "      <th>class</th>\n",
       "      <th>cap-shape</th>\n",
       "      <th>cap-surface</th>\n",
       "      <th>cap-color</th>\n",
       "      <th>bruises</th>\n",
       "      <th>odor</th>\n",
       "      <th>gill-attachment</th>\n",
       "      <th>gill-spacing</th>\n",
       "      <th>gill-size</th>\n",
       "      <th>gill-color</th>\n",
       "      <th>...</th>\n",
       "      <th>stalk-surface-below-ring</th>\n",
       "      <th>stalk-color-above-ring</th>\n",
       "      <th>stalk-color-below-ring</th>\n",
       "      <th>veil-type</th>\n",
       "      <th>veil-color</th>\n",
       "      <th>ring-number</th>\n",
       "      <th>ring-type</th>\n",
       "      <th>spore-print-color</th>\n",
       "      <th>population</th>\n",
       "      <th>habitat</th>\n",
       "    </tr>\n",
       "  </thead>\n",
       "  <tbody>\n",
       "    <tr>\n",
       "      <th>0</th>\n",
       "      <td>1</td>\n",
       "      <td>5</td>\n",
       "      <td>2</td>\n",
       "      <td>4</td>\n",
       "      <td>1</td>\n",
       "      <td>6</td>\n",
       "      <td>1</td>\n",
       "      <td>0</td>\n",
       "      <td>1</td>\n",
       "      <td>4</td>\n",
       "      <td>...</td>\n",
       "      <td>2</td>\n",
       "      <td>7</td>\n",
       "      <td>7</td>\n",
       "      <td>0</td>\n",
       "      <td>2</td>\n",
       "      <td>1</td>\n",
       "      <td>4</td>\n",
       "      <td>2</td>\n",
       "      <td>3</td>\n",
       "      <td>5</td>\n",
       "    </tr>\n",
       "    <tr>\n",
       "      <th>1</th>\n",
       "      <td>0</td>\n",
       "      <td>5</td>\n",
       "      <td>2</td>\n",
       "      <td>9</td>\n",
       "      <td>1</td>\n",
       "      <td>0</td>\n",
       "      <td>1</td>\n",
       "      <td>0</td>\n",
       "      <td>0</td>\n",
       "      <td>4</td>\n",
       "      <td>...</td>\n",
       "      <td>2</td>\n",
       "      <td>7</td>\n",
       "      <td>7</td>\n",
       "      <td>0</td>\n",
       "      <td>2</td>\n",
       "      <td>1</td>\n",
       "      <td>4</td>\n",
       "      <td>3</td>\n",
       "      <td>2</td>\n",
       "      <td>1</td>\n",
       "    </tr>\n",
       "    <tr>\n",
       "      <th>2</th>\n",
       "      <td>0</td>\n",
       "      <td>0</td>\n",
       "      <td>2</td>\n",
       "      <td>8</td>\n",
       "      <td>1</td>\n",
       "      <td>3</td>\n",
       "      <td>1</td>\n",
       "      <td>0</td>\n",
       "      <td>0</td>\n",
       "      <td>5</td>\n",
       "      <td>...</td>\n",
       "      <td>2</td>\n",
       "      <td>7</td>\n",
       "      <td>7</td>\n",
       "      <td>0</td>\n",
       "      <td>2</td>\n",
       "      <td>1</td>\n",
       "      <td>4</td>\n",
       "      <td>3</td>\n",
       "      <td>2</td>\n",
       "      <td>3</td>\n",
       "    </tr>\n",
       "    <tr>\n",
       "      <th>3</th>\n",
       "      <td>1</td>\n",
       "      <td>5</td>\n",
       "      <td>3</td>\n",
       "      <td>8</td>\n",
       "      <td>1</td>\n",
       "      <td>6</td>\n",
       "      <td>1</td>\n",
       "      <td>0</td>\n",
       "      <td>1</td>\n",
       "      <td>5</td>\n",
       "      <td>...</td>\n",
       "      <td>2</td>\n",
       "      <td>7</td>\n",
       "      <td>7</td>\n",
       "      <td>0</td>\n",
       "      <td>2</td>\n",
       "      <td>1</td>\n",
       "      <td>4</td>\n",
       "      <td>2</td>\n",
       "      <td>3</td>\n",
       "      <td>5</td>\n",
       "    </tr>\n",
       "    <tr>\n",
       "      <th>4</th>\n",
       "      <td>0</td>\n",
       "      <td>5</td>\n",
       "      <td>2</td>\n",
       "      <td>3</td>\n",
       "      <td>0</td>\n",
       "      <td>5</td>\n",
       "      <td>1</td>\n",
       "      <td>1</td>\n",
       "      <td>0</td>\n",
       "      <td>4</td>\n",
       "      <td>...</td>\n",
       "      <td>2</td>\n",
       "      <td>7</td>\n",
       "      <td>7</td>\n",
       "      <td>0</td>\n",
       "      <td>2</td>\n",
       "      <td>1</td>\n",
       "      <td>0</td>\n",
       "      <td>3</td>\n",
       "      <td>0</td>\n",
       "      <td>1</td>\n",
       "    </tr>\n",
       "  </tbody>\n",
       "</table>\n",
       "<p>5 rows × 23 columns</p>\n",
       "</div>"
      ],
      "text/plain": [
       "   class  cap-shape  cap-surface  cap-color  bruises  odor  gill-attachment  \\\n",
       "0      1          5            2          4        1     6                1   \n",
       "1      0          5            2          9        1     0                1   \n",
       "2      0          0            2          8        1     3                1   \n",
       "3      1          5            3          8        1     6                1   \n",
       "4      0          5            2          3        0     5                1   \n",
       "\n",
       "   gill-spacing  gill-size  gill-color  ...  stalk-surface-below-ring  \\\n",
       "0             0          1           4  ...                         2   \n",
       "1             0          0           4  ...                         2   \n",
       "2             0          0           5  ...                         2   \n",
       "3             0          1           5  ...                         2   \n",
       "4             1          0           4  ...                         2   \n",
       "\n",
       "   stalk-color-above-ring  stalk-color-below-ring  veil-type  veil-color  \\\n",
       "0                       7                       7          0           2   \n",
       "1                       7                       7          0           2   \n",
       "2                       7                       7          0           2   \n",
       "3                       7                       7          0           2   \n",
       "4                       7                       7          0           2   \n",
       "\n",
       "   ring-number  ring-type  spore-print-color  population  habitat  \n",
       "0            1          4                  2           3        5  \n",
       "1            1          4                  3           2        1  \n",
       "2            1          4                  3           2        3  \n",
       "3            1          4                  2           3        5  \n",
       "4            1          0                  3           0        1  \n",
       "\n",
       "[5 rows x 23 columns]"
      ]
     },
     "execution_count": 8,
     "metadata": {},
     "output_type": "execute_result"
    }
   ],
   "source": [
    "#check the data after label encoding\n",
    "data.head()"
   ]
  },
  {
   "cell_type": "code",
   "execution_count": 9,
   "metadata": {
    "_cell_guid": "8636fb59-cb29-4efb-a6b2-6b80b9b8963d",
    "_uuid": "8d61d2e60b170614ff1e02027783f12bc5d432b5"
   },
   "outputs": [],
   "source": [
    "#split the x and y variables\n",
    "y=data['class']\n",
    "x=data.iloc[:,1:23]"
   ]
  },
  {
   "cell_type": "code",
   "execution_count": 10,
   "metadata": {
    "_cell_guid": "9a6e1c86-0220-44cd-9e48-0fcab2812860",
    "_uuid": "0214927c649b003d193f8a21cd3c17322bd8ea0d"
   },
   "outputs": [
    {
     "data": {
      "text/plain": [
       "(8124, 22)"
      ]
     },
     "execution_count": 10,
     "metadata": {},
     "output_type": "execute_result"
    }
   ],
   "source": [
    "#check shape of new variables\n",
    "x.shape"
   ]
  },
  {
   "cell_type": "code",
   "execution_count": 11,
   "metadata": {
    "_cell_guid": "8e897f37-25dc-4175-8f10-dc63533970be",
    "_kg_hide-output": true,
    "_uuid": "20cf483e11c7c436f8334a5bf087858441019c3f"
   },
   "outputs": [
    {
     "data": {
      "text/plain": [
       "(8124,)"
      ]
     },
     "execution_count": 11,
     "metadata": {},
     "output_type": "execute_result"
    }
   ],
   "source": [
    "y.shape"
   ]
  },
  {
   "cell_type": "code",
   "execution_count": 12,
   "metadata": {
    "_cell_guid": "159e1abb-65ab-44c2-babb-566f39d58738",
    "_kg_hide-output": true,
    "_uuid": "c81a9d104278a2bab30c9b63f2ce9ddadcd5a9ba"
   },
   "outputs": [
    {
     "data": {
      "text/plain": [
       "<bound method NDFrame.head of       cap-shape  cap-surface  cap-color  bruises  odor  gill-attachment  \\\n",
       "0             5            2          4        1     6                1   \n",
       "1             5            2          9        1     0                1   \n",
       "2             0            2          8        1     3                1   \n",
       "3             5            3          8        1     6                1   \n",
       "4             5            2          3        0     5                1   \n",
       "...         ...          ...        ...      ...   ...              ...   \n",
       "8119          3            2          4        0     5                0   \n",
       "8120          5            2          4        0     5                0   \n",
       "8121          2            2          4        0     5                0   \n",
       "8122          3            3          4        0     8                1   \n",
       "8123          5            2          4        0     5                0   \n",
       "\n",
       "      gill-spacing  gill-size  gill-color  stalk-shape  ...  \\\n",
       "0                0          1           4            0  ...   \n",
       "1                0          0           4            0  ...   \n",
       "2                0          0           5            0  ...   \n",
       "3                0          1           5            0  ...   \n",
       "4                1          0           4            1  ...   \n",
       "...            ...        ...         ...          ...  ...   \n",
       "8119             0          0          11            0  ...   \n",
       "8120             0          0          11            0  ...   \n",
       "8121             0          0           5            0  ...   \n",
       "8122             0          1           0            1  ...   \n",
       "8123             0          0          11            0  ...   \n",
       "\n",
       "      stalk-surface-below-ring  stalk-color-above-ring  \\\n",
       "0                            2                       7   \n",
       "1                            2                       7   \n",
       "2                            2                       7   \n",
       "3                            2                       7   \n",
       "4                            2                       7   \n",
       "...                        ...                     ...   \n",
       "8119                         2                       5   \n",
       "8120                         2                       5   \n",
       "8121                         2                       5   \n",
       "8122                         1                       7   \n",
       "8123                         2                       5   \n",
       "\n",
       "      stalk-color-below-ring  veil-type  veil-color  ring-number  ring-type  \\\n",
       "0                          7          0           2            1          4   \n",
       "1                          7          0           2            1          4   \n",
       "2                          7          0           2            1          4   \n",
       "3                          7          0           2            1          4   \n",
       "4                          7          0           2            1          0   \n",
       "...                      ...        ...         ...          ...        ...   \n",
       "8119                       5          0           1            1          4   \n",
       "8120                       5          0           0            1          4   \n",
       "8121                       5          0           1            1          4   \n",
       "8122                       7          0           2            1          0   \n",
       "8123                       5          0           1            1          4   \n",
       "\n",
       "      spore-print-color  population  habitat  \n",
       "0                     2           3        5  \n",
       "1                     3           2        1  \n",
       "2                     3           2        3  \n",
       "3                     2           3        5  \n",
       "4                     3           0        1  \n",
       "...                 ...         ...      ...  \n",
       "8119                  0           1        2  \n",
       "8120                  0           4        2  \n",
       "8121                  0           1        2  \n",
       "8122                  7           4        2  \n",
       "8123                  4           1        2  \n",
       "\n",
       "[8124 rows x 22 columns]>"
      ]
     },
     "execution_count": 12,
     "metadata": {},
     "output_type": "execute_result"
    }
   ],
   "source": [
    "#check data\n",
    "x.head"
   ]
  },
  {
   "cell_type": "code",
   "execution_count": 13,
   "metadata": {
    "_cell_guid": "860022c1-66ce-4ba4-8dfa-328221b62109",
    "_kg_hide-output": true,
    "_uuid": "8e6e6f3894f3981a88fbcdaf9bb10f97d77e2760"
   },
   "outputs": [
    {
     "data": {
      "text/plain": [
       "<bound method NDFrame.head of 0       1\n",
       "1       0\n",
       "2       0\n",
       "3       1\n",
       "4       0\n",
       "       ..\n",
       "8119    0\n",
       "8120    0\n",
       "8121    0\n",
       "8122    1\n",
       "8123    0\n",
       "Name: class, Length: 8124, dtype: int32>"
      ]
     },
     "execution_count": 13,
     "metadata": {},
     "output_type": "execute_result"
    }
   ],
   "source": [
    "y.head"
   ]
  },
  {
   "cell_type": "code",
   "execution_count": 14,
   "metadata": {
    "_cell_guid": "18b0dc23-0983-435b-a266-c6857d9369d2",
    "_uuid": "0742a935a01c912febeb33f1583568f5cd7f675b"
   },
   "outputs": [],
   "source": [
    "#I want to use PCA on this data. First normalise the data using StandardScalar so that the data is now between -1 and 1\n",
    "from sklearn.preprocessing import StandardScaler\n",
    "sc = StandardScaler()\n",
    "x = sc.fit_transform(x)"
   ]
  },
  {
   "cell_type": "code",
   "execution_count": 15,
   "metadata": {
    "_cell_guid": "6444e659-de06-45ee-ad17-a4f858888707",
    "_kg_hide-output": true,
    "_uuid": "401f9b6ae549583e5152f4c857d9a78011911b15"
   },
   "outputs": [
    {
     "name": "stdout",
     "output_type": "stream",
     "text": [
      "[[ 1.02971224  0.14012794 -0.19824983 ... -0.67019486 -0.5143892\n",
      "   2.03002809]\n",
      " [ 1.02971224  0.14012794  1.76587407 ... -0.2504706  -1.31310821\n",
      "  -0.29572966]\n",
      " [-2.08704716  0.14012794  1.37304929 ... -0.2504706  -1.31310821\n",
      "   0.86714922]\n",
      " ...\n",
      " [-0.8403434   0.14012794 -0.19824983 ... -1.50964337 -2.11182722\n",
      "   0.28570978]\n",
      " [-0.21699152  0.95327039 -0.19824983 ...  1.42842641  0.28432981\n",
      "   0.28570978]\n",
      " [ 1.02971224  0.14012794 -0.19824983 ...  0.16925365 -2.11182722\n",
      "   0.28570978]]\n"
     ]
    }
   ],
   "source": [
    "#see the Standardised data\n",
    "print(x)"
   ]
  },
  {
   "cell_type": "code",
   "execution_count": 16,
   "metadata": {
    "_cell_guid": "ddba50df-e861-42da-b3f7-6c5f650fc79a",
    "_uuid": "05c6b69586b6dd84f909d0f73c3b33db113a357a"
   },
   "outputs": [],
   "source": [
    "#using principal component analysis\n",
    "#Even though the number of variables is not too high, I would still like to use PCA to see which variables describe the maximum variance in data\n",
    "from sklearn.decomposition import PCA\n",
    "pca = PCA()\n",
    "x_pca = pca.fit_transform(x)"
   ]
  },
  {
   "cell_type": "code",
   "execution_count": 17,
   "metadata": {
    "_cell_guid": "40c54a61-0d32-4da0-a893-6b47da2bcd41",
    "_kg_hide-output": true,
    "_uuid": "df0611b5cef00da8b56c4120efd3a187a265bbca"
   },
   "outputs": [
    {
     "data": {
      "image/png": "[encoded data removed]",
      "text/plain": [
       "<Figure size 1152x792 with 1 Axes>"
      ]
     },
     "metadata": {
      "needs_background": "light"
     },
     "output_type": "display_data"
    }
   ],
   "source": [
    "#plot a Scree plot of the Principal Components\n",
    "plt.figure(figsize=(16,11))\n",
    "plt.plot(np.cumsum(pca.explained_variance_ratio_), 'ro-')\n",
    "plt.grid()"
   ]
  },
  {
   "cell_type": "code",
   "execution_count": 18,
   "metadata": {
    "_cell_guid": "15ec35a4-0580-4bbc-b587-49176a9d951c",
    "_uuid": "7a5187338e5cdf1f0935b144a9328699405dbd42"
   },
   "outputs": [],
   "source": [
    "#from the graph, first 17 components describe the maximum variance(more than 90% of the data). We shall use them for our subsequent analysis.\n",
    "new_pca = PCA(n_components=17)"
   ]
  },
  {
   "cell_type": "code",
   "execution_count": 19,
   "metadata": {
    "_cell_guid": "766f6c61-f454-45ac-9017-a6e8f55e6bb7",
    "_uuid": "d2e81f4996afac4be51a237b3b8a68870a4dcf7a"
   },
   "outputs": [],
   "source": [
    "x_new = new_pca.fit_transform(x)"
   ]
  },
  {
   "cell_type": "code",
   "execution_count": 20,
   "metadata": {
    "_cell_guid": "b89cb3d2-29a9-44fd-9b38-aba759b5f0ff",
    "_uuid": "74a5db049ab143b3808df626e414a77b23196dc7"
   },
   "outputs": [],
   "source": [
    "#using KMeans to plot the clusters. We know that we habe 2 classes of the target variable. So n_clusters=2\n",
    "from sklearn.cluster import KMeans\n",
    "k_means = KMeans(n_clusters=2)"
   ]
  },
  {
   "cell_type": "code",
   "execution_count": 21,
   "metadata": {
    "_cell_guid": "30d89dfb-45c3-4956-98b4-d48a1296a6e7",
    "_uuid": "2d42e2ff3a74600bfc865d1b9012d868be88f001"
   },
   "outputs": [
    {
     "data": {
      "text/plain": [
       "array([1, 1, 1, ..., 1, 0, 1])"
      ]
     },
     "execution_count": 21,
     "metadata": {},
     "output_type": "execute_result"
    }
   ],
   "source": [
    "k_means.fit_predict(x_new )"
   ]
  },
  {
   "cell_type": "code",
   "execution_count": 22,
   "metadata": {
    "_cell_guid": "95f06d95-7433-4697-9a69-dd7f97376c78",
    "_kg_hide-output": true,
    "_uuid": "df74248f2678e45bec9fbb4feb4d0dd53f588740"
   },
   "outputs": [
    {
     "data": {
      "image/png": "[encoded data removed]",
      "text/plain": [
       "<Figure size 432x288 with 1 Axes>"
      ]
     },
     "metadata": {
      "needs_background": "light"
     },
     "output_type": "display_data"
    }
   ],
   "source": [
    "#plot the clusters.\n",
    "colors = ['r','g']\n",
    "for i in range(len(x_new)):\n",
    "    plt.scatter(x_new[i][0], x_new[i][1], c=colors[k_means.labels_[i]], s=10)\n",
    "plt.show()"
   ]
  },
  {
   "cell_type": "code",
   "execution_count": 23,
   "metadata": {
    "_cell_guid": "65394a09-e6ea-4ef8-a868-6e67bd29cd11",
    "_uuid": "238804507d1ecd5ef5352e40fe16e917f1cc325a"
   },
   "outputs": [
    {
     "data": {
      "text/plain": [
       "(8124, 17)"
      ]
     },
     "execution_count": 23,
     "metadata": {},
     "output_type": "execute_result"
    }
   ],
   "source": [
    "#2 distinct clusters are created. Data points are far apart \n",
    "x_new.shape"
   ]
  },
  {
   "cell_type": "code",
   "execution_count": 29,
   "metadata": {
    "_cell_guid": "85f22f03-5072-40af-ab8b-a1673a863188",
    "_uuid": "9a59d9581389fd2e19a66f005e3958b95e40d732"
   },
   "outputs": [],
   "source": [
    "#separate the train and test data\n",
    "from sklearn.model_selection import train_test_split"
   ]
  },
  {
   "cell_type": "code",
   "execution_count": 30,
   "metadata": {
    "_cell_guid": "e92036ac-f982-4cfe-833c-021259d1926c",
    "_uuid": "6961b5f77ff9b553de56fe5603a9284d0e0d8ce0"
   },
   "outputs": [],
   "source": [
    "x_train, x_test, y_train, y_test = train_test_split(x_new, y, test_size = 0.25, random_state = 6)"
   ]
  },
  {
   "cell_type": "code",
   "execution_count": 31,
   "metadata": {
    "_cell_guid": "6fe63e76-6864-4f36-9b68-200b02873ed6",
    "_uuid": "f964208e12f39c442de3242a40836f8e3be5d1b8"
   },
   "outputs": [
    {
     "name": "stdout",
     "output_type": "stream",
     "text": [
      "(6093, 17)\n",
      "(6093,)\n",
      "(2031, 17)\n",
      "(2031,)\n"
     ]
    }
   ],
   "source": [
    "print(x_train.shape)\n",
    "print(y_train.shape)\n",
    "print(x_test.shape)\n",
    "print(y_test.shape)"
   ]
  },
  {
   "cell_type": "code",
   "execution_count": 32,
   "metadata": {
    "_cell_guid": "2320472d-14b5-4f52-9525-42faac49fe47",
    "_uuid": "e4342de9e19bf37a869614401c0b7bdd3d34c45c"
   },
   "outputs": [],
   "source": [
    "#using Logistic regression to build the first model\n",
    "from sklearn.linear_model import LogisticRegression\n",
    "lr = LogisticRegression()\n",
    "lr.fit(x_train, y_train)\n",
    "lr_predict =lr.predict(x_test)"
   ]
  },
  {
   "cell_type": "code",
   "execution_count": 33,
   "metadata": {
    "_cell_guid": "b30e7f45-932e-44af-8469-8cb9b4108ce8",
    "_uuid": "6c0c1df27abab1b24a51f97702ad56b2c9e86644"
   },
   "outputs": [],
   "source": [
    "lr_predict_prob = lr.predict_proba(x_test)"
   ]
  },
  {
   "cell_type": "code",
   "execution_count": 34,
   "metadata": {
    "_cell_guid": "4343ffe9-86f9-4c01-a5b4-85ada68080c4",
    "_uuid": "286201b7504657b2ef1c252654b1ca43bdfbb7fe"
   },
   "outputs": [
    {
     "name": "stdout",
     "output_type": "stream",
     "text": [
      "[0 1 0 ... 1 0 1]\n",
      "[0.03604402 0.9481901  0.00154934 ... 0.99951834 0.02289823 0.99985836]\n"
     ]
    }
   ],
   "source": [
    "print(lr_predict)\n",
    "print(lr_predict_prob[:,1])"
   ]
  },
  {
   "cell_type": "code",
   "execution_count": 35,
   "metadata": {
    "_cell_guid": "1fee39d0-0c13-4f90-9eea-e45a20662e44",
    "_uuid": "9125b135d2433af828a1aa7a90c7178a2d2867e5"
   },
   "outputs": [],
   "source": [
    "#import metrics\n",
    "from sklearn.metrics import confusion_matrix, accuracy_score"
   ]
  },
  {
   "cell_type": "code",
   "execution_count": 36,
   "metadata": {
    "_cell_guid": "6636cfef-d3a1-4bda-8997-060f9c843690",
    "_uuid": "d9931bb229238717bab09dafe2ba6f63018d47d1"
   },
   "outputs": [],
   "source": [
    "lr_conf_matrix = confusion_matrix(y_test, lr_predict)\n",
    "lr_accuracy = accuracy_score(y_test, lr_predict)"
   ]
  },
  {
   "cell_type": "code",
   "execution_count": 37,
   "metadata": {
    "_cell_guid": "9e4b4e2a-c7a2-4528-9699-c376bc6b5a27",
    "_uuid": "e59e8a61cb7d3a2e1af44eca9d971549635484cf"
   },
   "outputs": [
    {
     "name": "stdout",
     "output_type": "stream",
     "text": [
      "[[1026   34]\n",
      " [  83  888]]\n",
      "0.9423929098966026\n"
     ]
    }
   ],
   "source": [
    "print(lr_conf_matrix)\n",
    "print(lr_accuracy)"
   ]
  },
  {
   "cell_type": "code",
   "execution_count": 38,
   "metadata": {
    "_cell_guid": "111826e9-24fd-4f94-9108-c782e86deeb1",
    "_uuid": "718b3f67dea139b94f7fa2d3ebe60a37165f2683"
   },
   "outputs": [],
   "source": [
    "#roc curve\n",
    "from sklearn.metrics import roc_curve\n",
    "fpr, tpr, thresholds = roc_curve(y_test,lr_predict_prob[:,1] )"
   ]
  },
  {
   "cell_type": "code",
   "execution_count": 39,
   "metadata": {
    "_cell_guid": "097a38b6-65a8-4395-ba45-637603859828",
    "_uuid": "c070213d64b3b1ec50c4b6b249d17b2c314d8a8c"
   },
   "outputs": [
    {
     "name": "stdout",
     "output_type": "stream",
     "text": [
      "0.9783116025105415\n"
     ]
    }
   ],
   "source": [
    "#auc score\n",
    "from sklearn.metrics import auc\n",
    "lr_auc = auc(fpr, tpr)\n",
    "print(lr_auc)"
   ]
  },
  {
   "cell_type": "code",
   "execution_count": 40,
   "metadata": {
    "_cell_guid": "7c06dd6a-74ad-4b54-b8db-12f6900233d3",
    "_kg_hide-output": true,
    "_uuid": "e99dbe0ac850d865b50a02f9eab6091ff91f4522"
   },
   "outputs": [
    {
     "data": {
      "text/plain": [
       "<matplotlib.legend.Legend at 0x19711f6a430>"
      ]
     },
     "execution_count": 40,
     "metadata": {},
     "output_type": "execute_result"
    },
    {
     "data": {
      "image/png": "[encoded data removed]",
      "text/plain": [
       "<Figure size 720x648 with 1 Axes>"
      ]
     },
     "metadata": {
      "needs_background": "light"
     },
     "output_type": "display_data"
    }
   ],
   "source": [
    "#plotting ROC curve\n",
    "plt.figure(figsize=(10,9))\n",
    "plt.plot(fpr, tpr, label = 'AUC= %0.2f' % lr_auc )\n",
    "plt.plot([0,1],[0,1], linestyle = '--')\n",
    "plt.legend()"
   ]
  },
  {
   "cell_type": "code",
   "execution_count": 41,
   "metadata": {
    "_cell_guid": "334020ac-394d-4d6a-8cad-8d4abbc68853",
    "_uuid": "27d013638a18468622e9fb75999a7174d11d7c74"
   },
   "outputs": [],
   "source": [
    "#Using Naive Bayes\n",
    "from sklearn.naive_bayes import GaussianNB\n",
    "gnb = GaussianNB()\n",
    "gnb.fit(x_train, y_train)\n",
    "gnb_predict = gnb.predict(x_test)\n",
    "gnb_predict_prob = gnb.predict_proba(x_test)"
   ]
  },
  {
   "cell_type": "code",
   "execution_count": 42,
   "metadata": {
    "_cell_guid": "13ff2a83-78fc-4af9-b230-f902aa1ea317",
    "_kg_hide-output": true,
    "_uuid": "364f8452caeeb25c750e920b8aa213ad90f73635"
   },
   "outputs": [
    {
     "name": "stdout",
     "output_type": "stream",
     "text": [
      "[0 1 0 ... 1 0 1]\n",
      "[[7.57456853e-01 2.42543147e-01]\n",
      " [2.29901504e-04 9.99770098e-01]\n",
      " [9.99999997e-01 3.03339054e-09]\n",
      " ...\n",
      " [1.42565352e-04 9.99857435e-01]\n",
      " [9.98155863e-01 1.84413674e-03]\n",
      " [3.27985711e-04 9.99672014e-01]]\n"
     ]
    }
   ],
   "source": [
    "print(gnb_predict)\n",
    "print(gnb_predict_prob)"
   ]
  },
  {
   "cell_type": "code",
   "execution_count": 43,
   "metadata": {
    "_cell_guid": "33aff1d0-08ae-48a6-b8f0-5fcfbdb49804",
    "_uuid": "58d20998e743ec135fce745a5a161575cab3a764"
   },
   "outputs": [],
   "source": [
    "gnb_conf_matrix = confusion_matrix(y_test, gnb_predict)\n",
    "gnb_accuracy_score = accuracy_score(y_test, gnb_predict)"
   ]
  },
  {
   "cell_type": "code",
   "execution_count": 44,
   "metadata": {
    "_cell_guid": "db6fa55e-048a-491e-aecb-c0fdfc315035",
    "_uuid": "a4f168d92ed87cfc24706fde0aa32aba404eeb9d"
   },
   "outputs": [
    {
     "name": "stdout",
     "output_type": "stream",
     "text": [
      "[[1019   41]\n",
      " [  92  879]]\n",
      "0.9345150172328902\n"
     ]
    }
   ],
   "source": [
    "print(gnb_conf_matrix)\n",
    "print(gnb_accuracy_score)"
   ]
  },
  {
   "cell_type": "code",
   "execution_count": 45,
   "metadata": {
    "_cell_guid": "0b592dd1-629d-4e14-9b7e-7c1aa847879f",
    "_uuid": "b292e814be866c3a1dc48c03c8ce9f3ebc190510"
   },
   "outputs": [
    {
     "name": "stdout",
     "output_type": "stream",
     "text": [
      "0.964131511960049\n"
     ]
    }
   ],
   "source": [
    "#calculate ROC and AUC\n",
    "fpr, tpr, thresholds = roc_curve(y_test, gnb_predict_prob[:,1])\n",
    "#print auc\n",
    "gnb_auc = auc(fpr, tpr)\n",
    "print(gnb_auc)"
   ]
  },
  {
   "cell_type": "code",
   "execution_count": 46,
   "metadata": {
    "_cell_guid": "64887edf-c472-4d71-b516-9fa8fc518d6b",
    "_kg_hide-output": true,
    "_uuid": "1c7a450de068a1590d4ba47549707ef3fc7521d7"
   },
   "outputs": [
    {
     "data": {
      "text/plain": [
       "<matplotlib.legend.Legend at 0x197121b8940>"
      ]
     },
     "execution_count": 46,
     "metadata": {},
     "output_type": "execute_result"
    },
    {
     "data": {
      "image/png": "[encoded data removed]",
      "text/plain": [
       "<Figure size 720x648 with 1 Axes>"
      ]
     },
     "metadata": {
      "needs_background": "light"
     },
     "output_type": "display_data"
    }
   ],
   "source": [
    "#plot ROC curve\n",
    "plt.figure(figsize=(10,9))\n",
    "plt.plot(fpr, tpr, label = 'AUC %0.2f' % gnb_auc)\n",
    "plt.plot([0,1],[0,1], linestyle = '--')\n",
    "plt.legend()"
   ]
  },
  {
   "cell_type": "code",
   "execution_count": 47,
   "metadata": {
    "_cell_guid": "547cc7fd-b6fa-4d02-9b13-29025f6ebc3d",
    "_uuid": "456dfd033d0bc81df919e2099b1ccbffa62b4429"
   },
   "outputs": [],
   "source": [
    "#lets use Decision Trees to classify \n",
    "#use the number of trees as 10 first\n",
    "from sklearn.tree import DecisionTreeClassifier\n",
    "dt = DecisionTreeClassifier(max_depth=10)"
   ]
  },
  {
   "cell_type": "code",
   "execution_count": 48,
   "metadata": {},
   "outputs": [],
   "source": [
    "dt.fit(x_train,y_train)\n",
    "dt_predict = dt.predict(x_test)\n",
    "dt_predict_prob = dt.predict_proba(x_test)"
   ]
  },
  {
   "cell_type": "code",
   "execution_count": 49,
   "metadata": {},
   "outputs": [],
   "source": [
    "from sklearn.metrics import confusion_matrix, accuracy_score"
   ]
  },
  {
   "cell_type": "code",
   "execution_count": 50,
   "metadata": {},
   "outputs": [],
   "source": [
    "dt_conf_matrix = confusion_matrix(y_test, dt_predict)\n",
    "dt_accuracy_score = accuracy_score(y_test, dt_predict)"
   ]
  },
  {
   "cell_type": "code",
   "execution_count": 51,
   "metadata": {},
   "outputs": [
    {
     "name": "stdout",
     "output_type": "stream",
     "text": [
      "[[1048   12]\n",
      " [   5  966]]\n",
      "0.9916297390448056\n"
     ]
    }
   ],
   "source": [
    "print(dt_conf_matrix)\n",
    "print(dt_accuracy_score)"
   ]
  },
  {
   "cell_type": "code",
   "execution_count": 52,
   "metadata": {},
   "outputs": [
    {
     "name": "stdout",
     "output_type": "stream",
     "text": [
      "0.9943935448769017\n"
     ]
    }
   ],
   "source": [
    "#calculate auc and plot roc\n",
    "from sklearn.metrics import roc_curve, auc\n",
    "fpr, tpr, thresholds = roc_curve(y_test, dt_predict_prob[:,1])\n",
    "dt_auc = auc(fpr, tpr)\n",
    "print(dt_auc)"
   ]
  },
  {
   "cell_type": "code",
   "execution_count": 53,
   "metadata": {
    "_kg_hide-output": true
   },
   "outputs": [
    {
     "data": {
      "image/png": "[encoded data removed]",
      "text/plain": [
       "<Figure size 720x648 with 1 Axes>"
      ]
     },
     "metadata": {
      "needs_background": "light"
     },
     "output_type": "display_data"
    }
   ],
   "source": [
    "#plot ROC curve\n",
    "plt.figure(figsize=(10,9))\n",
    "plt.plot(fpr, tpr, label = 'AUC %0.2f' % dt_auc)\n",
    "plt.plot([0,1],[0,1], linestyle = '--')\n",
    "plt.xlabel('False Positive rate')\n",
    "plt.ylabel('True Positive rate')\n",
    "plt.legend()\n",
    "plt.grid()\n"
   ]
  },
  {
   "cell_type": "code",
   "execution_count": 54,
   "metadata": {},
   "outputs": [],
   "source": [
    "#using random forest\n",
    "from sklearn.ensemble import RandomForestClassifier\n",
    "rf = RandomForestClassifier(max_depth=10) #10 trees\n",
    "rf.fit(x_train, y_train)\n",
    "rf_predict = rf.predict(x_test)\n",
    "rf_predict_prob = rf.predict_proba(x_test)"
   ]
  },
  {
   "cell_type": "code",
   "execution_count": 55,
   "metadata": {},
   "outputs": [],
   "source": [
    "rf_conf_matrix = confusion_matrix(y_test,rf_predict)\n",
    "rf_accuracy_score = accuracy_score(y_test, rf_predict)"
   ]
  },
  {
   "cell_type": "code",
   "execution_count": 56,
   "metadata": {},
   "outputs": [
    {
     "name": "stdout",
     "output_type": "stream",
     "text": [
      "[[1060    0]\n",
      " [   0  971]]\n",
      "1.0\n"
     ]
    }
   ],
   "source": [
    "print(rf_conf_matrix)\n",
    "print(rf_accuracy_score)\n",
    "#random forest has a higher accuracy score than the decision tree\n",
    "#Decision tree = 99.3\n",
    "#Random forest = 99.9"
   ]
  },
  {
   "cell_type": "code",
   "execution_count": 57,
   "metadata": {},
   "outputs": [
    {
     "name": "stdout",
     "output_type": "stream",
     "text": [
      "1.0\n"
     ]
    }
   ],
   "source": [
    "fpr, tpr, thresholds = roc_curve(y_test, rf_predict_prob[:,1])\n",
    "rf_auc = auc(fpr, tpr)\n",
    "print(rf_auc)"
   ]
  },
  {
   "cell_type": "code",
   "execution_count": 58,
   "metadata": {},
   "outputs": [
    {
     "data": {
      "image/png": "[encoded data removed]",
      "text/plain": [
       "<Figure size 720x648 with 1 Axes>"
      ]
     },
     "metadata": {
      "needs_background": "light"
     },
     "output_type": "display_data"
    }
   ],
   "source": [
    "#plot the ROC curve\n",
    "plt.figure(figsize=(10,9))\n",
    "plt.plot(fpr, tpr, label = 'AUC: %0.2f' % rf_auc)\n",
    "plt.plot([1,0],[1,0], linestyle = '--')\n",
    "plt.legend(loc=0)\n",
    "plt.xlabel('False Positive rate')\n",
    "plt.ylabel('True Positive rate')\n",
    "plt.grid()"
   ]
  },
  {
   "cell_type": "code",
   "execution_count": 59,
   "metadata": {
    "_kg_hide-output": true
   },
   "outputs": [
    {
     "data": {
      "text/plain": [
       "MeanShift()"
      ]
     },
     "execution_count": 59,
     "metadata": {},
     "output_type": "execute_result"
    }
   ],
   "source": [
    "#how would an unsupervised algo like MeanShift or DBScan work? Let's find out\n",
    "from sklearn.cluster import MeanShift\n",
    "ms = MeanShift()\n",
    "ms.fit(x_new)"
   ]
  },
  {
   "cell_type": "code",
   "execution_count": 60,
   "metadata": {
    "_kg_hide-output": true
   },
   "outputs": [
    {
     "name": "stdout",
     "output_type": "stream",
     "text": [
      "[0 0 0 ... 1 0 1]\n",
      "[[ 8.36179992e-03 -2.17301777e-02 -1.05551283e-02 -3.17219440e-01\n",
      "  -2.18361308e-02 -9.34208201e-02 -5.54691447e-04 -5.00204579e-02\n",
      "   1.49697617e-02 -1.65030838e-02 -3.10626417e-03  1.29905637e-02\n",
      "  -2.27703383e-03  1.68147423e-02 -1.94916186e-02  1.77512799e-02\n",
      "  -6.61565076e-04]\n",
      " [-1.39533915e+00 -1.55830213e+00  3.44201193e+00  7.33900470e+00\n",
      "   2.95866272e+00 -1.61765662e+00  2.12442296e-01 -1.18676486e-01\n",
      "   1.79871844e-01 -5.71849692e-01 -1.04210679e-01  1.72975850e-02\n",
      "   6.72168923e-02 -1.34458173e-01 -1.12693818e-01  2.02568504e-01\n",
      "  -1.06860187e-02]\n",
      " [-1.52002054e+00  1.66258498e-01  2.60843916e+00  1.50630708e+00\n",
      "   1.98031603e+00 -1.67510137e+00 -5.56169679e-01  1.75054179e+00\n",
      "  -1.59271498e+00  3.97565610e+00  1.89010801e+00  3.49427797e-02\n",
      "  -2.62702056e-01  6.97188441e-01  1.80195722e+00 -1.61784722e+00\n",
      "   4.32329537e-01]]\n"
     ]
    }
   ],
   "source": [
    "#print the labels and the cluster centers (I will be calling them centroids)\n",
    "ms_labels = ms.labels_\n",
    "ms_centroids = ms.cluster_centers_\n",
    "print(ms_labels)\n",
    "print(ms_centroids)"
   ]
  },
  {
   "cell_type": "code",
   "execution_count": 61,
   "metadata": {},
   "outputs": [
    {
     "name": "stdout",
     "output_type": "stream",
     "text": [
      "3\n"
     ]
    }
   ],
   "source": [
    "#np.unique will give us one count of each label. \n",
    "n_clusters = len(np.unique(ms_labels))\n",
    "print(n_clusters)"
   ]
  },
  {
   "cell_type": "code",
   "execution_count": 62,
   "metadata": {},
   "outputs": [
    {
     "data": {
      "image/png": "[encoded data removed]",
      "text/plain": [
       "<Figure size 720x648 with 1 Axes>"
      ]
     },
     "metadata": {
      "needs_background": "light"
     },
     "output_type": "display_data"
    }
   ],
   "source": [
    "#let's plot the clusters and see how different they are from our original cluster of KMeans'\n",
    "plt.figure(figsize=(10,9))\n",
    "colors = ['r','g','y','b']\n",
    "for i in range(len(x_new)):\n",
    "    plt.scatter(x_new[i][0], x_new[i][1], c=colors[ms_labels[i]], s=5)\n",
    "#print cluster centers\n",
    "#Cluster centers are x's in blue\n",
    "plt.scatter(ms_centroids[:,0], ms_centroids[:,1], marker='x')\n",
    "plt.show()\n",
    "#Considerably different!"
   ]
  },
  {
   "cell_type": "code",
   "execution_count": 58,
   "metadata": {
    "collapsed": true
   },
   "outputs": [],
   "source": []
  }
 ],
 "metadata": {
  "kernelspec": {
   "display_name": "Python 3",
   "language": "python",
   "name": "python3"
  },
  "language_info": {
   "codemirror_mode": {
    "name": "ipython",
    "version": 3
   },
   "file_extension": ".py",
   "mimetype": "text/x-python",
   "name": "python",
   "nbconvert_exporter": "python",
   "pygments_lexer": "ipython3",
   "version": "3.8.8"
  }
 },
 "nbformat": 4,
 "nbformat_minor": 1
}
